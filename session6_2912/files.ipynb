{
 "metadata": {
  "language_info": {
   "codemirror_mode": {
    "name": "ipython",
    "version": 3
   },
   "file_extension": ".py",
   "mimetype": "text/x-python",
   "name": "python",
   "nbconvert_exporter": "python",
   "pygments_lexer": "ipython3",
   "version": "3.9.1-final"
  },
  "orig_nbformat": 2,
  "kernelspec": {
   "name": "python3",
   "display_name": "Python 3.9.1 64-bit",
   "metadata": {
    "interpreter": {
     "hash": "7d63ce975782c92b08f3f772153dbd399f28f779c2a00aec1f20bc6f6f6070ea"
    }
   }
  }
 },
 "nbformat": 4,
 "nbformat_minor": 2,
 "cells": [
  {
   "cell_type": "code",
   "execution_count": 29,
   "metadata": {},
   "outputs": [],
   "source": [
    "#create a file\n",
    "\n",
    "#file_object  = open(\"filename\", \"mode\") \n",
    "\n",
    "file_string = str(input(\"Enter Text here:\"))\n",
    "\n",
    "def write(text):\n",
    "    file_object = open(\"testfile\",\"w\")\n",
    "    file_object.write(text)\n",
    "    file_object.close()\n",
    "\n",
    "write(file_string)\n",
    "\n"
   ]
  },
  {
   "cell_type": "code",
   "execution_count": 30,
   "metadata": {},
   "outputs": [],
   "source": [
    "#Append text to a file\n",
    "\n",
    "def append_to_file(argument_from_function):\n",
    "    file_object=open(\"testfile\", \"a+\")\n",
    "    file_object.write(argument_from_function)\n",
    "    file_object.close()\n",
    "\n",
    "append_to_file(\"Hi there, its me again!\")"
   ]
  },
  {
   "cell_type": "code",
   "execution_count": 14,
   "metadata": {},
   "outputs": [],
   "source": []
  },
  {
   "cell_type": "code",
   "execution_count": 16,
   "metadata": {},
   "outputs": [],
   "source": []
  },
  {
   "cell_type": "code",
   "execution_count": 17,
   "metadata": {},
   "outputs": [
    {
     "output_type": "stream",
     "name": "stdout",
     "text": [
      "This is line 1\n\nThis is line 2\n\nThis is line 3\n\nThis is line 4\n\nThis is line 5\n\nThis is line 6\n\nThis is line 7\n\nThis is line 8\n\nThis is line 9\n\nThis is line 10\n\nAppended line 1\n\nAppended line 2\n\n\n"
     ]
    }
   ],
   "source": [
    "#Reading a file\n",
    "\n",
    "file_object=open(\"test.txt\", \"r\")\n",
    "\n",
    "if file_object.mode == 'r':\n",
    "    contents =file_object.read()\n",
    "    print(contents)"
   ]
  },
  {
   "cell_type": "code",
   "execution_count": 18,
   "metadata": {},
   "outputs": [
    {
     "output_type": "stream",
     "name": "stdout",
     "text": [
      "This is line 1\n\n\n\nThis is line 2\n\n\n\nThis is line 3\n\n\n\nThis is line 4\n\n\n\nThis is line 5\n\n\n\nThis is line 6\n\n\n\nThis is line 7\n\n\n\nThis is line 8\n\n\n\nThis is line 9\n\n\n\nThis is line 10\n\n\n\nAppended line 1\n\n\n\nAppended line 2\n\n\n\n"
     ]
    }
   ],
   "source": [
    "#Read file line by line\n",
    "\n",
    "file_object=open(\"test.txt\", \"r\")\n",
    "\n",
    "if file_object.mode == 'r':\n",
    "    contents =file_object.readlines()\n",
    "    for line in contents:\n",
    "        print(line)"
   ]
  },
  {
   "cell_type": "code",
   "execution_count": null,
   "metadata": {},
   "outputs": [],
   "source": []
  }
 ]
}