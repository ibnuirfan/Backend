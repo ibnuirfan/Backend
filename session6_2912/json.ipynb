{
 "metadata": {
  "language_info": {
   "codemirror_mode": {
    "name": "ipython",
    "version": 3
   },
   "file_extension": ".py",
   "mimetype": "text/x-python",
   "name": "python",
   "nbconvert_exporter": "python",
   "pygments_lexer": "ipython3",
   "version": "3.9.1-final"
  },
  "orig_nbformat": 2,
  "kernelspec": {
   "name": "python3",
   "display_name": "Python 3.9.1 64-bit",
   "metadata": {
    "interpreter": {
     "hash": "7d63ce975782c92b08f3f772153dbd399f28f779c2a00aec1f20bc6f6f6070ea"
    }
   }
  }
 },
 "nbformat": 4,
 "nbformat_minor": 2,
 "cells": [
  {
   "cell_type": "code",
   "execution_count": 1,
   "metadata": {},
   "outputs": [],
   "source": [
    "import json"
   ]
  },
  {
   "cell_type": "code",
   "execution_count": 3,
   "metadata": {},
   "outputs": [
    {
     "output_type": "stream",
     "name": "stdout",
     "text": [
      "{'name': 'Vaibhav', 'languages': ['English', 'Hindi']}\n['English', 'Hindi']\n"
     ]
    }
   ],
   "source": [
    "#load json as a dictionary\n",
    "\n",
    "import json\n",
    "\n",
    "person = '{\"name\": \"Vaibhav\", \"languages\": [\"English\", \"Hindi\"]}'\n",
    "person_dict = json.loads(person)\n",
    "\n",
    "print( person_dict)\n",
    "\n",
    "print(person_dict['languages'])"
   ]
  },
  {
   "cell_type": "code",
   "execution_count": 5,
   "metadata": {},
   "outputs": [
    {
     "output_type": "stream",
     "name": "stdout",
     "text": [
      "{'name': 'Vaibhav', 'languages': ['English', 'Hindi']}\n"
     ]
    }
   ],
   "source": [
    "import json\n",
    "\n",
    "#with in python is a better alternative to file handling\n",
    "with open('person.json') as f:\n",
    "  data = json.load(f)\n",
    "\n",
    "print(data)"
   ]
  },
  {
   "cell_type": "code",
   "execution_count": null,
   "metadata": {},
   "outputs": [],
   "source": [
    "#dict to json\n",
    "import json\n",
    "\n",
    "person_dict = {'name': 'Vaibhav',\n",
    "'age': 35,\n",
    "'children': None\n",
    "}\n",
    "person_json = json.dumps(person_dict)\n",
    "\n",
    "print(person_json)"
   ]
  },
  {
   "cell_type": "code",
   "execution_count": 6,
   "metadata": {},
   "outputs": [],
   "source": [
    "#json to a file\n",
    "\n",
    "import json\n",
    "\n",
    "person_dict = {\"name\": \"Vaibhav\",\n",
    "\"languages\": [\"English\", \"Hindi\"],\n",
    "\"married\": True,\n",
    "\"age\": 35\n",
    "}\n",
    "\n",
    "with open('person.txt', 'w') as json_file:\n",
    "  json.dump(person_dict, json_file)"
   ]
  },
  {
   "cell_type": "code",
   "execution_count": null,
   "metadata": {},
   "outputs": [],
   "source": []
  }
 ]
}