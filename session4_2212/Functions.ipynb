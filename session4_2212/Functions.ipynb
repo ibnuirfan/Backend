{
 "cells": [
  {
   "cell_type": "code",
   "execution_count": 29,
   "metadata": {},
   "outputs": [
    {
     "name": "stdout",
     "output_type": "stream",
     "text": [
      "hello\n",
      "how are you\n"
     ]
    }
   ],
   "source": [
    "def func():\n",
    "    print(\"hello\")\n",
    "    print(\"how are you\")\n",
    "    \n",
    "func()"
   ]
  },
  {
   "cell_type": "code",
   "execution_count": 34,
   "metadata": {},
   "outputs": [
    {
     "name": "stdout",
     "output_type": "stream",
     "text": [
      "John\n"
     ]
    }
   ],
   "source": [
    "# passing arguments\n",
    "\n",
    "def func(name):\n",
    "    print(name)\n",
    "    \n",
    "func('John')"
   ]
  },
  {
   "cell_type": "code",
   "execution_count": 38,
   "metadata": {},
   "outputs": [
    {
     "name": "stdout",
     "output_type": "stream",
     "text": [
      "2.0\n"
     ]
    }
   ],
   "source": [
    "# return value --- must use print \n",
    "\n",
    "def tax(price, rate):\n",
    "    total = price*rate\n",
    "    return total\n",
    "\n",
    "a = tax(10, 0.2)   # save the returned value as variable a, for use elsewhere\n",
    "print(a)"
   ]
  },
  {
   "cell_type": "code",
   "execution_count": 45,
   "metadata": {},
   "outputs": [
    {
     "data": {
      "text/plain": [
       "5.0"
      ]
     },
     "execution_count": 45,
     "metadata": {},
     "output_type": "execute_result"
    }
   ],
   "source": [
    "tax(10,0.2) + tax(10,0.3)"
   ]
  },
  {
   "cell_type": "code",
   "execution_count": 47,
   "metadata": {},
   "outputs": [
    {
     "name": "stdout",
     "output_type": "stream",
     "text": [
      "2.0\n"
     ]
    }
   ],
   "source": [
    "# print value --- directly prints\n",
    "\n",
    "def tax2(price, rate):\n",
    "    total = price*rate\n",
    "    print(total)\n",
    "\n",
    "tax2(10, 0.2)"
   ]
  },
  {
   "cell_type": "code",
   "execution_count": 49,
   "metadata": {},
   "outputs": [
    {
     "ename": "NameError",
     "evalue": "name 'total' is not defined",
     "output_type": "error",
     "traceback": [
      "\u001b[1;31m---------------------------------------------------------------------------\u001b[0m",
      "\u001b[1;31mNameError\u001b[0m                                 Traceback (most recent call last)",
      "\u001b[1;32m<ipython-input-49-fe3c5fc09824>\u001b[0m in \u001b[0;36m<module>\u001b[1;34m\u001b[0m\n\u001b[0;32m      1\u001b[0m \u001b[1;31m# local variables\u001b[0m\u001b[1;33m\u001b[0m\u001b[1;33m\u001b[0m\u001b[1;33m\u001b[0m\u001b[0m\n\u001b[0;32m      2\u001b[0m \u001b[1;33m\u001b[0m\u001b[0m\n\u001b[1;32m----> 3\u001b[1;33m \u001b[0mtotal\u001b[0m \u001b[1;31m# total is a local variable, cannot be called outside the function\u001b[0m\u001b[1;33m\u001b[0m\u001b[1;33m\u001b[0m\u001b[0m\n\u001b[0m",
      "\u001b[1;31mNameError\u001b[0m: name 'total' is not defined"
     ]
    }
   ],
   "source": [
    "# local variables\n",
    "\n",
    "total # total is a local variable, cannot be called outside the function"
   ]
  },
  {
   "cell_type": "code",
   "execution_count": 53,
   "metadata": {},
   "outputs": [
    {
     "name": "stdout",
     "output_type": "stream",
     "text": [
      "3\n",
      "2\n"
     ]
    }
   ],
   "source": [
    "# local variables names can be reused across different functions\n",
    "\n",
    "def func(a, b):\n",
    "    c = a+b\n",
    "    print(c)\n",
    "    \n",
    "def func2(a,b):\n",
    "    c = a*b\n",
    "    print(c)\n",
    "    \n",
    "func(1,2)\n",
    "func2(1,2)"
   ]
  },
  {
   "cell_type": "code",
   "execution_count": 55,
   "metadata": {},
   "outputs": [
    {
     "ename": "NameError",
     "evalue": "name 's' is not defined",
     "output_type": "error",
     "traceback": [
      "\u001b[1;31m---------------------------------------------------------------------------\u001b[0m",
      "\u001b[1;31mNameError\u001b[0m                                 Traceback (most recent call last)",
      "\u001b[1;32m<ipython-input-55-cd0f788746f1>\u001b[0m in \u001b[0;36m<module>\u001b[1;34m\u001b[0m\n\u001b[0;32m      6\u001b[0m \u001b[0mf\u001b[0m\u001b[1;33m(\u001b[0m\u001b[1;33m)\u001b[0m\u001b[1;33m\u001b[0m\u001b[1;33m\u001b[0m\u001b[0m\n\u001b[0;32m      7\u001b[0m \u001b[1;33m\u001b[0m\u001b[0m\n\u001b[1;32m----> 8\u001b[1;33m \u001b[0mprint\u001b[0m\u001b[1;33m(\u001b[0m\u001b[0ms\u001b[0m\u001b[1;33m)\u001b[0m\u001b[1;33m\u001b[0m\u001b[1;33m\u001b[0m\u001b[0m\n\u001b[0m",
      "\u001b[1;31mNameError\u001b[0m: name 's' is not defined"
     ]
    }
   ],
   "source": [
    "# local var\n",
    "\n",
    "def f():\n",
    "    s = 'i love macs'\n",
    "\n",
    "f()\n",
    "\n",
    "print(s)"
   ]
  },
  {
   "cell_type": "code",
   "execution_count": 2,
   "metadata": {},
   "outputs": [
    {
     "output_type": "stream",
     "name": "stdout",
     "text": [
      "1\n2\n3\ni love macs\n"
     ]
    }
   ],
   "source": [
    "# global var\n",
    "print(1)\n",
    "def f():\n",
    "    print(s)\n",
    "print(2)\n",
    "s = 'i love macs'\n",
    "print(3)\n",
    "f()"
   ]
  },
  {
   "cell_type": "code",
   "execution_count": 3,
   "metadata": {},
   "outputs": [
    {
     "output_type": "stream",
     "name": "stdout",
     "text": [
      "kfc\nkfc\n"
     ]
    }
   ],
   "source": [
    "# reassigning global variables - not encouraged\n",
    "\n",
    "s = 'macs'\n",
    "\n",
    "def f():\n",
    "    global s \n",
    "    s = 'kfc'\n",
    "    print(s)\n",
    "    \n",
    "f()\n",
    "\n",
    "print(s)"
   ]
  },
  {
   "cell_type": "code",
   "execution_count": 2,
   "metadata": {},
   "outputs": [
    {
     "name": "stdout",
     "output_type": "stream",
     "text": [
      "15\n"
     ]
    }
   ],
   "source": [
    "# lambda functions -----------\n",
    "\n",
    "a = lambda x: x+10\n",
    "\n",
    "print(a(5))"
   ]
  },
  {
   "cell_type": "code",
   "execution_count": 82,
   "metadata": {},
   "outputs": [
    {
     "name": "stdout",
     "output_type": "stream",
     "text": [
      "15\n"
     ]
    }
   ],
   "source": [
    "# above is similar to\n",
    "\n",
    "def func(a):\n",
    "    return a+10\n",
    "\n",
    "print(func(5))"
   ]
  },
  {
   "cell_type": "code",
   "execution_count": 1,
   "metadata": {},
   "outputs": [
    {
     "name": "stdout",
     "output_type": "stream",
     "text": [
      "50\n"
     ]
    }
   ],
   "source": [
    "a = lambda x,y: x*y\n",
    "\n",
    "print(a(5,10))\n"
   ]
  },
  {
   "cell_type": "code",
   "execution_count": 83,
   "metadata": {},
   "outputs": [
    {
     "name": "stdout",
     "output_type": "stream",
     "text": [
      "50\n"
     ]
    }
   ],
   "source": [
    "# above same as\n",
    "\n",
    "def func(a,b):\n",
    "    return a*b\n",
    "\n",
    "print(func(5,10))"
   ]
  },
  {
   "cell_type": "code",
   "execution_count": 99,
   "metadata": {},
   "outputs": [
    {
     "name": "stdout",
     "output_type": "stream",
     "text": [
      "[-3, -2, -1]\n"
     ]
    }
   ],
   "source": [
    "# using lambda with filter() function\n",
    "\n",
    "mylist = [-3,-2,-1,1,2,3]\n",
    "negatives = filter(lambda x: x<0, mylist)  # create a filter object\n",
    "neg_list = list(negatives) # convert filter object to list\n",
    "\n",
    "print(neg_list)\n"
   ]
  },
  {
   "cell_type": "code",
   "execution_count": 4,
   "metadata": {},
   "outputs": [
    {
     "name": "stdout",
     "output_type": "stream",
     "text": [
      "[11, 12, 13, 14]\n"
     ]
    }
   ],
   "source": [
    "# using lambda with map()\n",
    "\n",
    "a = [1,2,3,4]\n",
    "b = [10,10,10,10]\n",
    "c = map(lambda x,y:x+y, a,b)\n",
    "print(list(c))\n"
   ]
  },
  {
   "cell_type": "code",
   "execution_count": 23,
   "metadata": {},
   "outputs": [
    {
     "name": "stdout",
     "output_type": "stream",
     "text": [
      "10\n"
     ]
    }
   ],
   "source": [
    "# using lambda with reduce()\n",
    "\n",
    "from functools import reduce\n",
    "a = reduce(lambda x, y: x+y, range(5))   #0,1,2,3,4\n",
    "print(a)"
   ]
  },
  {
   "cell_type": "code",
   "execution_count": null,
   "metadata": {},
   "outputs": [],
   "source": [
    "# Bonus------"
   ]
  },
  {
   "cell_type": "code",
   "execution_count": 13,
   "metadata": {},
   "outputs": [
    {
     "name": "stdout",
     "output_type": "stream",
     "text": [
      "20\n",
      "-30\n"
     ]
    }
   ],
   "source": [
    "# using lambda with ifelse statement list comprehension\n",
    "\n",
    "converter = lambda x : x*2    if x>0     else x*3\n",
    "\n",
    "print(converter(10))\n",
    "print(converter(-10))"
   ]
  },
  {
   "cell_type": "code",
   "execution_count": 24,
   "metadata": {},
   "outputs": [
    {
     "data": {
      "text/plain": [
       "True"
      ]
     },
     "execution_count": 24,
     "metadata": {},
     "output_type": "execute_result"
    }
   ],
   "source": [
    "test = lambda age,gender : True if (age> 10 and gender == 'f') else False\n",
    "\n",
    "test(age=15, gender = 'f')"
   ]
  },
  {
   "cell_type": "code",
   "execution_count": 33,
   "metadata": {},
   "outputs": [
    {
     "name": "stdout",
     "output_type": "stream",
     "text": [
      "3\n"
     ]
    }
   ],
   "source": [
    "# reduce with ifelse list comprehension\n",
    "\n",
    "a = reduce(lambda a,b: (a if (a > b) else b) ,  [1,2,3,2,1])\n",
    "print(a)"
   ]
  },
  {
   "cell_type": "code",
   "execution_count": 37,
   "metadata": {},
   "outputs": [
    {
     "data": {
      "text/plain": [
       "6"
      ]
     },
     "execution_count": 37,
     "metadata": {},
     "output_type": "execute_result"
    }
   ],
   "source": [
    "# Recursion\n",
    "\n",
    "def factorial(n):\n",
    "    if n == 1:\n",
    "        return 1\n",
    "    else:\n",
    "        x = n * factorial(n-1)\n",
    "        return x\n",
    "\n",
    "factorial(3)"
   ]
  }
 ],
 "metadata": {
  "kernelspec": {
   "name": "python3",
   "display_name": "Python 3.9.1 64-bit",
   "metadata": {
    "interpreter": {
     "hash": "7d63ce975782c92b08f3f772153dbd399f28f779c2a00aec1f20bc6f6f6070ea"
    }
   }
  },
  "language_info": {
   "codemirror_mode": {
    "name": "ipython",
    "version": 3
   },
   "file_extension": ".py",
   "mimetype": "text/x-python",
   "name": "python",
   "nbconvert_exporter": "python",
   "pygments_lexer": "ipython3",
   "version": "3.9.1-final"
  }
 },
 "nbformat": 4,
 "nbformat_minor": 4
}