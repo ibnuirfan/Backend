{
 "metadata": {
  "language_info": {
   "codemirror_mode": {
    "name": "ipython",
    "version": 3
   },
   "file_extension": ".py",
   "mimetype": "text/x-python",
   "name": "python",
   "nbconvert_exporter": "python",
   "pygments_lexer": "ipython3",
   "version": "3.9.1-final"
  },
  "orig_nbformat": 2,
  "kernelspec": {
   "name": "python3",
   "display_name": "Python 3.9.1 64-bit",
   "metadata": {
    "interpreter": {
     "hash": "7d63ce975782c92b08f3f772153dbd399f28f779c2a00aec1f20bc6f6f6070ea"
    }
   }
  }
 },
 "nbformat": 4,
 "nbformat_minor": 2,
 "cells": [
  {
   "cell_type": "code",
   "execution_count": 9,
   "metadata": {},
   "outputs": [
    {
     "output_type": "stream",
     "name": "stdout",
     "text": [
      "The type of number provided is not integer\n"
     ]
    }
   ],
   "source": [
    "# Practices functions\n",
    "\n",
    "def add(a,b):\n",
    "    if type(a) == int and type(b) == int:\n",
    "        return a + b\n",
    "    else:\n",
    "        return \"The type of number provided is not integer\"\n",
    "\n",
    "\n",
    "print(add(\"1\",15))\n"
   ]
  },
  {
   "cell_type": "code",
   "execution_count": 11,
   "metadata": {},
   "outputs": [
    {
     "output_type": "execute_result",
     "data": {
      "text/plain": [
       "6"
      ]
     },
     "metadata": {},
     "execution_count": 11
    }
   ],
   "source": [
    "def addition(num1,num2):\n",
    "    if(type(num1) == int and type(num2) == int):    \n",
    "        sum = num1 + num2\n",
    "        return sum\n",
    "    else:\n",
    "        print(\"the input is not an integer\")    \n",
    "addition(1,5)\n"
   ]
  },
  {
   "cell_type": "code",
   "execution_count": 13,
   "metadata": {},
   "outputs": [
    {
     "output_type": "stream",
     "name": "stdout",
     "text": [
      "13\n"
     ]
    }
   ],
   "source": [
    "def combine(str1, str2):\n",
    "    return str(str1) + str(str2)\n",
    "\n",
    "print(combine(1,3))\n"
   ]
  },
  {
   "cell_type": "code",
   "execution_count": 16,
   "metadata": {},
   "outputs": [
    {
     "output_type": "stream",
     "name": "stdout",
     "text": [
      "hello\n"
     ]
    }
   ],
   "source": [
    "def function():\n",
    "    print(\"hello\")\n",
    "\n",
    "function()"
   ]
  },
  {
   "cell_type": "code",
   "execution_count": 12,
   "metadata": {},
   "outputs": [
    {
     "output_type": "execute_result",
     "data": {
      "text/plain": [
       "4"
      ]
     },
     "metadata": {},
     "execution_count": 12
    }
   ],
   "source": [
    "def concstring(word1, word2):\n",
    "    conc = word1 + word2\n",
    "    return conc\n",
    "concstring(1, 3)\n"
   ]
  },
  {
   "cell_type": "code",
   "execution_count": 15,
   "metadata": {},
   "outputs": [
    {
     "output_type": "stream",
     "name": "stdout",
     "text": [
      "6\n"
     ]
    }
   ],
   "source": [
    "list = [0,1,2]\n",
    "def sum(numbers):\n",
    "    #numbers = listofnumbers\n",
    "    #numbers = [1,2,3,4]\n",
    "    total = 0\n",
    "    for x in numbers:\n",
    "        #x = 1\n",
    "        total += x\n",
    "        #total = total + x\n",
    "        #total = 0+1\n",
    "        #total = 1\n",
    "    return total\n",
    "\n",
    "listofnumbers = [1,2,3,4]\n",
    "print(sum(listofnumbers))\n"
   ]
  },
  {
   "cell_type": "code",
   "execution_count": 18,
   "metadata": {},
   "outputs": [
    {
     "output_type": "error",
     "ename": "AttributeError",
     "evalue": "'list' object has no attribute 'any'",
     "traceback": [
      "\u001b[1;31m---------------------------------------------------------------------------\u001b[0m",
      "\u001b[1;31mAttributeError\u001b[0m                            Traceback (most recent call last)",
      "\u001b[1;32m<ipython-input-18-c247532a6753>\u001b[0m in \u001b[0;36m<module>\u001b[1;34m\u001b[0m\n\u001b[1;32m----> 1\u001b[1;33m \u001b[0mlistofnumbers\u001b[0m\u001b[1;33m.\u001b[0m\u001b[0many\u001b[0m\u001b[1;33m(\u001b[0m\u001b[1;33m[\u001b[0m\u001b[1;36m1\u001b[0m\u001b[1;33m]\u001b[0m\u001b[1;33m)\u001b[0m\u001b[1;33m\u001b[0m\u001b[1;33m\u001b[0m\u001b[0m\n\u001b[0m",
      "\u001b[1;31mAttributeError\u001b[0m: 'list' object has no attribute 'any'"
     ]
    }
   ],
   "source": [
    "listofnumbers.any([1])   "
   ]
  },
  {
   "cell_type": "code",
   "execution_count": 19,
   "metadata": {},
   "outputs": [
    {
     "output_type": "error",
     "ename": "TypeError",
     "evalue": "any() takes exactly one argument (2 given)",
     "traceback": [
      "\u001b[1;31m---------------------------------------------------------------------------\u001b[0m",
      "\u001b[1;31mTypeError\u001b[0m                                 Traceback (most recent call last)",
      "\u001b[1;32m<ipython-input-19-b15e7cda575e>\u001b[0m in \u001b[0;36m<module>\u001b[1;34m\u001b[0m\n\u001b[1;32m----> 1\u001b[1;33m \u001b[0many\u001b[0m\u001b[1;33m(\u001b[0m\u001b[1;33m[\u001b[0m\u001b[1;36m1\u001b[0m\u001b[1;33m,\u001b[0m\u001b[1;36m2\u001b[0m\u001b[1;33m,\u001b[0m\u001b[1;36m3\u001b[0m\u001b[1;33m]\u001b[0m\u001b[1;33m,\u001b[0m \u001b[1;33m[\u001b[0m\u001b[1;36m1\u001b[0m\u001b[1;33m]\u001b[0m\u001b[1;33m)\u001b[0m\u001b[1;33m\u001b[0m\u001b[1;33m\u001b[0m\u001b[0m\n\u001b[0m",
      "\u001b[1;31mTypeError\u001b[0m: any() takes exactly one argument (2 given)"
     ]
    }
   ],
   "source": [
    "any([1,2,3], [1])"
   ]
  },
  {
   "cell_type": "code",
   "execution_count": 22,
   "metadata": {},
   "outputs": [
    {
     "output_type": "error",
     "ename": "AttributeError",
     "evalue": "'list' object has no attribute 'any'",
     "traceback": [
      "\u001b[1;31m---------------------------------------------------------------------------\u001b[0m",
      "\u001b[1;31mAttributeError\u001b[0m                            Traceback (most recent call last)",
      "\u001b[1;32m<ipython-input-22-47a6b46c01f3>\u001b[0m in \u001b[0;36m<module>\u001b[1;34m\u001b[0m\n\u001b[0;32m      1\u001b[0m \u001b[0mlist\u001b[0m \u001b[1;33m=\u001b[0m \u001b[1;33m[\u001b[0m\u001b[1;33m]\u001b[0m\u001b[1;33m\u001b[0m\u001b[1;33m\u001b[0m\u001b[0m\n\u001b[0;32m      2\u001b[0m \u001b[1;33m\u001b[0m\u001b[0m\n\u001b[1;32m----> 3\u001b[1;33m \u001b[0mlist\u001b[0m\u001b[1;33m.\u001b[0m\u001b[0many\u001b[0m\u001b[1;33m(\u001b[0m\u001b[1;33m[\u001b[0m\u001b[1;36m1\u001b[0m\u001b[1;33m]\u001b[0m\u001b[1;33m)\u001b[0m\u001b[1;33m\u001b[0m\u001b[1;33m\u001b[0m\u001b[0m\n\u001b[0m",
      "\u001b[1;31mAttributeError\u001b[0m: 'list' object has no attribute 'any'"
     ]
    }
   ],
   "source": [
    "list = []\n",
    "\n",
    "list.any([1])"
   ]
  },
  {
   "cell_type": "code",
   "execution_count": 23,
   "metadata": {},
   "outputs": [
    {
     "output_type": "execute_result",
     "data": {
      "text/plain": [
       "False"
      ]
     },
     "metadata": {},
     "execution_count": 23
    }
   ],
   "source": [
    "any(list)"
   ]
  },
  {
   "cell_type": "code",
   "execution_count": 32,
   "metadata": {},
   "outputs": [
    {
     "output_type": "execute_result",
     "data": {
      "text/plain": [
       "True"
      ]
     },
     "metadata": {},
     "execution_count": 32
    }
   ],
   "source": [
    "streaming = ['netflix', 'hulu', 'disney+', 'appletv+']\n",
    "\n",
    "'netflix' in streaming\n",
    "\n"
   ]
  },
  {
   "cell_type": "code",
   "execution_count": 56,
   "metadata": {},
   "outputs": [
    {
     "output_type": "stream",
     "name": "stdout",
     "text": [
      "15\n"
     ]
    },
    {
     "output_type": "error",
     "ename": "TypeError",
     "evalue": "'list' object is not callable",
     "traceback": [
      "\u001b[1;31m---------------------------------------------------------------------------\u001b[0m",
      "\u001b[1;31mTypeError\u001b[0m                                 Traceback (most recent call last)",
      "\u001b[1;32m<ipython-input-56-f428de8a4ee8>\u001b[0m in \u001b[0;36m<module>\u001b[1;34m\u001b[0m\n\u001b[0;32m     14\u001b[0m \u001b[0mmylist\u001b[0m \u001b[1;33m=\u001b[0m \u001b[0mrange\u001b[0m\u001b[1;33m(\u001b[0m\u001b[1;33m-\u001b[0m\u001b[1;36m5\u001b[0m\u001b[1;33m,\u001b[0m \u001b[1;36m5\u001b[0m\u001b[1;33m)\u001b[0m\u001b[1;33m\u001b[0m\u001b[1;33m\u001b[0m\u001b[0m\n\u001b[0;32m     15\u001b[0m \u001b[0mnegatives\u001b[0m \u001b[1;33m=\u001b[0m \u001b[0mfilter\u001b[0m\u001b[1;33m(\u001b[0m\u001b[1;32mlambda\u001b[0m \u001b[0mx\u001b[0m\u001b[1;33m:\u001b[0m \u001b[0mx\u001b[0m \u001b[1;33m<\u001b[0m \u001b[1;36m0\u001b[0m\u001b[1;33m,\u001b[0m \u001b[0mmylist\u001b[0m\u001b[1;33m)\u001b[0m\u001b[1;33m\u001b[0m\u001b[1;33m\u001b[0m\u001b[0m\n\u001b[1;32m---> 16\u001b[1;33m \u001b[0mprint\u001b[0m\u001b[1;33m(\u001b[0m\u001b[0mlist\u001b[0m\u001b[1;33m(\u001b[0m\u001b[0mnegatives\u001b[0m\u001b[1;33m)\u001b[0m\u001b[1;33m)\u001b[0m\u001b[1;33m\u001b[0m\u001b[1;33m\u001b[0m\u001b[0m\n\u001b[0m",
      "\u001b[1;31mTypeError\u001b[0m: 'list' object is not callable"
     ]
    }
   ],
   "source": [
    "a = lambda x : x + 10\n",
    "print(a(5))\n",
    "\n",
    "#before \n",
    "def function(x):\n",
    "    return x+10\n",
    "\n",
    "#after\n",
    "a = lambda x : x + 10\n",
    "\n",
    "\n",
    "function(5)\n",
    "\n",
    "mylist = range(-5, 5)\n",
    "negatives = filter(lambda x: x < 0, mylist)\n",
    "print(list(negatives))"
   ]
  },
  {
   "cell_type": "code",
   "execution_count": 31,
   "metadata": {},
   "outputs": [
    {
     "output_type": "error",
     "ename": "TypeError",
     "evalue": "'list' object is not callable",
     "traceback": [
      "\u001b[1;31m---------------------------------------------------------------------------\u001b[0m",
      "\u001b[1;31mTypeError\u001b[0m                                 Traceback (most recent call last)",
      "\u001b[1;32m<ipython-input-31-dff898f35285>\u001b[0m in \u001b[0;36m<module>\u001b[1;34m\u001b[0m\n\u001b[0;32m      2\u001b[0m \u001b[0mb\u001b[0m \u001b[1;33m=\u001b[0m \u001b[1;33m[\u001b[0m\u001b[1;36m10\u001b[0m\u001b[1;33m,\u001b[0m\u001b[1;36m10\u001b[0m\u001b[1;33m,\u001b[0m\u001b[1;36m10\u001b[0m\u001b[1;33m,\u001b[0m\u001b[1;36m10\u001b[0m\u001b[1;33m]\u001b[0m\u001b[1;33m\u001b[0m\u001b[1;33m\u001b[0m\u001b[0m\n\u001b[0;32m      3\u001b[0m \u001b[0mc\u001b[0m \u001b[1;33m=\u001b[0m \u001b[0mmap\u001b[0m\u001b[1;33m(\u001b[0m\u001b[1;32mlambda\u001b[0m \u001b[0mx\u001b[0m\u001b[1;33m,\u001b[0m\u001b[0my\u001b[0m\u001b[1;33m:\u001b[0m\u001b[0mx\u001b[0m\u001b[1;33m+\u001b[0m\u001b[0my\u001b[0m\u001b[1;33m,\u001b[0m \u001b[0ma\u001b[0m\u001b[1;33m,\u001b[0m\u001b[0mb\u001b[0m\u001b[1;33m)\u001b[0m\u001b[1;33m\u001b[0m\u001b[1;33m\u001b[0m\u001b[0m\n\u001b[1;32m----> 4\u001b[1;33m \u001b[0mprint\u001b[0m\u001b[1;33m(\u001b[0m\u001b[0mlist\u001b[0m\u001b[1;33m(\u001b[0m\u001b[0mc\u001b[0m\u001b[1;33m)\u001b[0m\u001b[1;33m)\u001b[0m\u001b[1;33m\u001b[0m\u001b[1;33m\u001b[0m\u001b[0m\n\u001b[0m",
      "\u001b[1;31mTypeError\u001b[0m: 'list' object is not callable"
     ]
    }
   ],
   "source": [
    "a = [1,2,3,4]\n",
    "b = [10,10,10,10]\n",
    "c = map(lambda x,y:x+y, a,b)\n",
    "print(list(c))"
   ]
  },
  {
   "cell_type": "code",
   "execution_count": 29,
   "metadata": {},
   "outputs": [],
   "source": [
    "def factorial(n):\n",
    "   if n == 1:\n",
    "       return n\n",
    "   else:\n",
    "       return n*factorial(n-1)\n"
   ]
  },
  {
   "cell_type": "code",
   "execution_count": 30,
   "metadata": {},
   "outputs": [
    {
     "output_type": "stream",
     "name": "stdout",
     "text": [
      "68\n"
     ]
    }
   ],
   "source": [
    "# Python 3\n",
    "from functools import reduce\n",
    "\n",
    "numbers = [3, 4, 6, 9, 34, 12]\n",
    "\n",
    "def custom_sum(first, second):\n",
    "    return first + second\n",
    "\n",
    "result = reduce(custom_sum, numbers)\n",
    "print(result)"
   ]
  },
  {
   "cell_type": "code",
   "execution_count": 34,
   "metadata": {},
   "outputs": [
    {
     "output_type": "error",
     "ename": "TypeError",
     "evalue": "printhello() takes 0 positional arguments but 1 was given",
     "traceback": [
      "\u001b[1;31m---------------------------------------------------------------------------\u001b[0m",
      "\u001b[1;31mTypeError\u001b[0m                                 Traceback (most recent call last)",
      "\u001b[1;32m<ipython-input-34-281df65a1753>\u001b[0m in \u001b[0;36m<module>\u001b[1;34m\u001b[0m\n\u001b[0;32m      9\u001b[0m \u001b[1;33m\u001b[0m\u001b[0m\n\u001b[0;32m     10\u001b[0m \u001b[0mapollo1\u001b[0m \u001b[1;33m=\u001b[0m \u001b[0mApollo\u001b[0m\u001b[1;33m(\u001b[0m\u001b[1;33m)\u001b[0m\u001b[1;33m\u001b[0m\u001b[1;33m\u001b[0m\u001b[0m\n\u001b[1;32m---> 11\u001b[1;33m \u001b[0mapollo1\u001b[0m\u001b[1;33m.\u001b[0m\u001b[0mprinthello\u001b[0m\u001b[1;33m(\u001b[0m\u001b[1;33m)\u001b[0m\u001b[1;33m\u001b[0m\u001b[1;33m\u001b[0m\u001b[0m\n\u001b[0m\u001b[0;32m     12\u001b[0m \u001b[0mapollo1\u001b[0m\u001b[1;33m.\u001b[0m\u001b[0mget_destination\u001b[0m\u001b[1;33m(\u001b[0m\u001b[1;33m)\u001b[0m\u001b[1;33m\u001b[0m\u001b[1;33m\u001b[0m\u001b[0m\n",
      "\u001b[1;31mTypeError\u001b[0m: printhello() takes 0 positional arguments but 1 was given"
     ]
    }
   ],
   "source": [
    "class Apollo:\n",
    "    #variables\n",
    "    destination = \"moon\"\n",
    "    #member functions / behavior\n",
    "    def printhello():\n",
    "        print(\"hello moon\")\n",
    "    def get_destination():\n",
    "        print(\"my destination - \", self.destination)\n",
    "\n",
    "apollo1 = Apollo()\n",
    "apollo1.printhello()\n",
    "apollo1.get_destination()\n",
    "apollo1.destination"
   ]
  },
  {
   "cell_type": "code",
   "execution_count": 49,
   "metadata": {},
   "outputs": [
    {
     "output_type": "stream",
     "name": "stdout",
     "text": [
      "Hello Moon\nMy destination -  moon\nMy destination -  mars\nObject gone\n"
     ]
    }
   ],
   "source": [
    "#create class\n",
    "class Apollo:\n",
    "    #define a constructor to initialise a property, destination\n",
    "       #step 1 -> how do refer the object? A: self\n",
    "       #step 2 -> how do i create a property / attribute? A: self.<name of the property>\n",
    "       #step 3 -> where do i get the value of this property from? A: from the method parameter / arument that i send to it\n",
    "    def __init__(self, destination):\n",
    "        self.mission_destination = destination\n",
    "        self.mission_duration = destination*3\n",
    "    #define functions/behaviors\n",
    "    def printhello(self, name):\n",
    "        print(\"Hello Moon\")\n",
    "    def get_destination(self):\n",
    "        print(\"My destination - \", self.mission_destination)\n",
    "    def __del__(self):\n",
    "        print(\"Object gone\")\n",
    "\n",
    "#creation of an object\n",
    "apollo1 = Apollo(\"moon\")\n",
    "apollo1.printhello(\"\")\n",
    "apollo1.get_destination()\n",
    "\n",
    "apollo2 = Apollo(\"mars\")\n",
    "apollo2.get_destination()\n",
    "\n",
    "del apollo1\n"
   ]
  },
  {
   "cell_type": "code",
   "execution_count": 48,
   "metadata": {},
   "outputs": [
    {
     "output_type": "stream",
     "name": "stdout",
     "text": [
      "My destination -  Home1\nMy destination -  House1\nMy destination -  Home1\nMy destination -  House1\n"
     ]
    }
   ],
   "source": [
    "DictofPlaces = {'Home': 'Home1', 'House': 'House1'}\n",
    "\n",
    "#create class\n",
    "class Place:\n",
    "    #create variables\n",
    "    destination = \"\"\n",
    "    #define functions/behaviors\n",
    "    def printhello(self):\n",
    "        print(\"Hello!!!!\")\n",
    "    def get_destination(self):\n",
    "        print(\"My destination - \", self.destination)\n",
    "\n",
    "for key in DictofPlaces:\n",
    "    objectname = \"object\" + key\n",
    "    objectname = Place()\n",
    "    objectname.destination = DictofPlaces[key]\n",
    "    objectname.get_destination()\n",
    "#With __init__:\n",
    "DictofPlaces = {'Home': 'Home1', 'House': 'House1'}\n",
    "\n",
    "#create class\n",
    "class Place:\n",
    "    #create variables\n",
    "    def __init__(self,destination):\n",
    "        self.destination = destination\n",
    "    #define functions/behaviors\n",
    "    def printhello(self):\n",
    "        print(\"Hello!!!!\")\n",
    "    def get_destination(self):\n",
    "        print(\"My destination - \", self.destination)\n",
    "\n",
    "for key in DictofPlaces:\n",
    "    objectname = \"object\" + key\n",
    "    objectname = Place(DictofPlaces[key])\n",
    "    objectname.get_destination()\n"
   ]
  },
  {
   "cell_type": "code",
   "execution_count": 57,
   "metadata": {},
   "outputs": [
    {
     "output_type": "stream",
     "name": "stdout",
     "text": [
      "11\n12\n13\n14\n"
     ]
    }
   ],
   "source": [
    "a = [1,2,3,4]\n",
    "b = [10,10,10,10]\n",
    "sum = 0\n",
    "for i in a:\n",
    "    for j in b:\n",
    "        sum = i+j\n",
    "    print(sum)\n",
    "\n"
   ]
  },
  {
   "cell_type": "code",
   "execution_count": 59,
   "metadata": {},
   "outputs": [
    {
     "output_type": "stream",
     "name": "stdout",
     "text": [
      "[11, 12, 13]\n"
     ]
    }
   ],
   "source": [
    "a = [1,2,3]\n",
    "b = [10,10,10,10]\n",
    "newList = []\n",
    "for x in range(len(a)):\n",
    "    newList.append(a[x] + b[x])\n",
    "print(newList)"
   ]
  },
  {
   "cell_type": "code",
   "execution_count": 60,
   "metadata": {},
   "outputs": [
    {
     "output_type": "error",
     "ename": "NameError",
     "evalue": "name 'password' is not defined",
     "traceback": [
      "\u001b[1;31m---------------------------------------------------------------------------\u001b[0m",
      "\u001b[1;31mNameError\u001b[0m                                 Traceback (most recent call last)",
      "\u001b[1;32m<ipython-input-60-9d0760098e6b>\u001b[0m in \u001b[0;36m<module>\u001b[1;34m\u001b[0m\n\u001b[0;32m      1\u001b[0m \u001b[0mchars\u001b[0m \u001b[1;33m=\u001b[0m \u001b[1;34m'abcdefghijklmnopqrstuvwxyz1234567890!@#$%^&*.'\u001b[0m\u001b[1;33m\u001b[0m\u001b[1;33m\u001b[0m\u001b[0m\n\u001b[1;32m----> 2\u001b[1;33m \u001b[0mpassword\u001b[0m \u001b[1;33m=\u001b[0m \u001b[0mlist\u001b[0m\u001b[1;33m(\u001b[0m\u001b[0mpassword\u001b[0m\u001b[1;33m)\u001b[0m\u001b[1;33m\u001b[0m\u001b[1;33m\u001b[0m\u001b[0m\n\u001b[0m\u001b[0;32m      3\u001b[0m \u001b[1;33m\u001b[0m\u001b[0m\n\u001b[0;32m      4\u001b[0m \u001b[1;31m# Take input from user.\u001b[0m\u001b[1;33m\u001b[0m\u001b[1;33m\u001b[0m\u001b[1;33m\u001b[0m\u001b[0m\n\u001b[0;32m      5\u001b[0m \u001b[0mpasswordLen\u001b[0m \u001b[1;33m=\u001b[0m \u001b[0mint\u001b[0m\u001b[1;33m(\u001b[0m\u001b[0minput\u001b[0m\u001b[1;33m(\u001b[0m\u001b[1;34m\"Password Length: \"\u001b[0m\u001b[1;33m)\u001b[0m\u001b[1;33m)\u001b[0m\u001b[1;33m\u001b[0m\u001b[1;33m\u001b[0m\u001b[0m\n",
      "\u001b[1;31mNameError\u001b[0m: name 'password' is not defined"
     ]
    }
   ],
   "source": [
    "chars = 'abcdefghijklmnopqrstuvwxyz1234567890!@#$%^&*.'\n",
    "password = list(password)\n",
    "\n",
    "# Take input from user.\n",
    "passwordLen = int(input(\"Password Length: \"))\n",
    "# generate for loop\n",
    "for i in range(passwordLen):\n",
    "    #build password by adding values to an empty list. random.choice is a built in library. use chars that we previously defined to assign it to randomise\n",
    "    password.append(random.choice(chars))\n",
    "#join combines the chars into one\n",
    "print(''.join(password))\n",
    "print(password)\n"
   ]
  },
  {
   "cell_type": "code",
   "execution_count": 61,
   "metadata": {},
   "outputs": [
    {
     "output_type": "stream",
     "name": "stdout",
     "text": [
      "0.00014285714285714287\n0.00028571428571428574\n0.0005714285714285715\n0.001142857142857143\n0.002285714285714286\n0.004571428571428572\n0.009142857142857144\n0.018285714285714287\n0.036571428571428574\n0.07314285714285715\n0.1462857142857143\n0.2925714285714286\n0.5851428571428572\n1.1702857142857144\n2.3405714285714287\n4.6811428571428575\n9.362285714285715\n18.72457142857143\n37.44914285714286\n74.89828571428572\n149.79657142857144\n299.5931428571429\n599.1862857142858\n1198.3725714285715\n2396.745142857143\n4793.490285714286\n9586.980571428572\n19173.961142857144\n38347.92228571429\n76695.84457142858\n153391.68914285715\n306783.3782857143\n613566.7565714286\n1227133.5131428572\n2454267.0262857145\n4908534.052571429\n9817068.105142858\n19634136.210285716\n39268272.42057143\n78536544.84114286\n157073089.68228573\n314146179.36457145\n628292358.7291429\n1256584717.4582858\n2513169434.9165716\n5026338869.833143\n10052677739.666286\n20105355479.332573\n40210710958.665146\n80421421917.33029\n160842843834.66058\n321685687669.32117\n643371375338.6423\n1286742750677.2847\n2573485501354.5693\n5146971002709.139\n10293942005418.277\n20587884010836.555\n41175768021673.11\n82351536043346.22\n164703072086692.44\n329406144173384.9\n658812288346769.8\n1317624576693539.5\n"
     ]
    }
   ],
   "source": [
    "for i in range(64):\n",
    "    print((2**i)/7000)\n"
   ]
  },
  {
   "cell_type": "code",
   "execution_count": null,
   "metadata": {},
   "outputs": [],
   "source": []
  }
 ]
}