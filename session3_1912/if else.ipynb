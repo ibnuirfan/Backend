{
 "metadata": {
  "language_info": {
   "codemirror_mode": {
    "name": "ipython",
    "version": 3
   },
   "file_extension": ".py",
   "mimetype": "text/x-python",
   "name": "python",
   "nbconvert_exporter": "python",
   "pygments_lexer": "ipython3",
   "version": "3.9.1-final"
  },
  "orig_nbformat": 2,
  "kernelspec": {
   "name": "python3",
   "display_name": "Python 3.9.1 64-bit",
   "metadata": {
    "interpreter": {
     "hash": "7d63ce975782c92b08f3f772153dbd399f28f779c2a00aec1f20bc6f6f6070ea"
    }
   }
  }
 },
 "nbformat": 4,
 "nbformat_minor": 2,
 "cells": [
  {
   "cell_type": "code",
   "execution_count": null,
   "metadata": {},
   "outputs": [],
   "source": [
    "days = int(input(\"How many days in a leap year? \"))\n",
    "if days == 366:\n",
    "    print(\"You have cleared the test.\")\n",
    "print(\"Congrats!\")"
   ]
  },
  {
   "cell_type": "code",
   "execution_count": 1,
   "metadata": {},
   "outputs": [
    {
     "output_type": "stream",
     "name": "stdout",
     "text": [
      "You have cleared the test.\nThanks!\n"
     ]
    }
   ],
   "source": [
    "answer = input(\"Is Python an interpreted language? Yes or No >> \").lower()\n",
    "\n",
    "if answer == \"yes\" :\n",
    "    print(\"You have cleared the test.\")\n",
    "else :\n",
    "    print(\"You have failed the test.\")\n",
    "\n",
    "print(\"Thanks!\")"
   ]
  },
  {
   "cell_type": "code",
   "execution_count": null,
   "metadata": {},
   "outputs": [],
   "source": [
    "while True:\n",
    "    response = input(\"Which Python data type is an ordered sequence? \").lower()\n",
    "    print(\"You entered:\", response)\n",
    "    \n",
    "    if response == \"list\" :\n",
    "        print(\"You have cleared the test.\")\n",
    "        break\n",
    "    elif response == \"tuple\" :\n",
    "        print(\"You have cleared the test.\")\n",
    "        break\n",
    "    else :\n",
    "        print(\"Your input is wrong. Please try again.\")"
   ]
  },
  {
   "cell_type": "code",
   "execution_count": null,
   "metadata": {},
   "outputs": [],
   "source": [
    "x = 10\n",
    "y = 20\n",
    "z = 30\n",
    "\n",
    "print(\"Start\")\n",
    "if x == 10:\n",
    "    print(\" Nested If\")\n",
    "    if y == 20:\n",
    "        print(\" End of Nested If Block \")\n",
    "    else:\n",
    "        print(\" End of Nested If-Else Block \")\n",
    "elif y == 20:\n",
    "    print(\" Elif block \")\n",
    "else:\n",
    "    print(\" Nested If\")\n",
    "    if z == 30:\n",
    "        print(\" End of Nested If Block \")\n",
    "    else:\n",
    "        print(\" End of Nested If-Else Block \")\n",
    "print(\"Stop\")"
   ]
  },
  {
   "cell_type": "code",
   "execution_count": null,
   "metadata": {},
   "outputs": [],
   "source": [
    "a = 10\n",
    "b = 20\n",
    "if not a > b :\n",
    "    print(\"The number %d is less than %d\" %(a, b))/"
   ]
  },
  {
   "cell_type": "code",
   "execution_count": null,
   "metadata": {},
   "outputs": [],
   "source": [
    "X = 0\n",
    "if not X :\n",
    "    print(\"X is not %d\" %(X))\n",
    "else :\n",
    "    print(\"X is %d\" %(X))"
   ]
  },
  {
   "cell_type": "code",
   "execution_count": null,
   "metadata": {},
   "outputs": [],
   "source": [
    "a = 10\n",
    "b = 20\n",
    "c = 30\n",
    "\n",
    "avg = (a + b + c) / 3\n",
    "print(\"avg =\", avg)\n",
    "\n",
    "if avg > a and avg > b and avg > c:\n",
    "    print(\"%d is higher than %d, %d, %d\" %(avg, a, b, c))\n",
    "elif avg > a and avg > b:\n",
    "    print(\"%d is higher than %d, %d\" %(avg, a, b))\n",
    "elif avg > a and avg > c:\n",
    "    print(\"%d is higher than %d, %d\" %(avg, a, c))\n",
    "elif avg > b and avg > c:\n",
    "    print(\"%d is higher than %d, %d\" %(avg, b, c))\n",
    "elif avg > a:\n",
    "    print(\"%d is just higher than %d\" %(avg, a))\n",
    "elif avg > b:\n",
    "    print(\"%d is just higher than %d\" %(avg, b))\n",
    "elif avg > c:\n",
    "    print(\"%d is just higher than %d\" %(avg, c))"
   ]
  },
  {
   "cell_type": "code",
   "execution_count": null,
   "metadata": {},
   "outputs": [],
   "source": [
    "# Implement Python Switch Case Statement using Dictionary\n",
    "\n",
    "def monday():\n",
    "    return \"monday\"\n",
    "def tuesday():\n",
    "    return \"tuesday\"\n",
    "def wednesday():\n",
    "    return \"wednesday\"\n",
    "def thursday():\n",
    "    return \"thursday\"\n",
    "def friday():\n",
    "    return \"friday\"\n",
    "def saturday():\n",
    "    return \"saturday\"\n",
    "def sunday():\n",
    "    return \"sunday\"\n",
    "def default():\n",
    "    return \"Incorrect day\"\n",
    "\n",
    "switcher = {\n",
    "    1: monday,\n",
    "    2: tuesday,\n",
    "    3: wednesday,\n",
    "    4: thursday,\n",
    "    5: friday,\n",
    "    6: saturday,\n",
    "    7: sunday\n",
    "    }\n",
    "\n",
    "def switch(dayOfWeek):\n",
    "    return switcher.get(dayOfWeek, default)()\n",
    "\n",
    "print(switch(1))\n",
    "print(switch(0))"
   ]
  },
  {
   "cell_type": "code",
   "execution_count": null,
   "metadata": {},
   "outputs": [],
   "source": []
  }
 ]
}