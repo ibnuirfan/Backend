{
 "metadata": {
  "language_info": {
   "codemirror_mode": {
    "name": "ipython",
    "version": 3
   },
   "file_extension": ".py",
   "mimetype": "text/x-python",
   "name": "python",
   "nbconvert_exporter": "python",
   "pygments_lexer": "ipython3",
   "version": "3.9.1-final"
  },
  "orig_nbformat": 2,
  "kernelspec": {
   "name": "python3",
   "display_name": "Python 3.9.1 64-bit",
   "metadata": {
    "interpreter": {
     "hash": "7d63ce975782c92b08f3f772153dbd399f28f779c2a00aec1f20bc6f6f6070ea"
    }
   }
  }
 },
 "nbformat": 4,
 "nbformat_minor": 2,
 "cells": [
  {
   "cell_type": "code",
   "execution_count": 30,
   "metadata": {},
   "outputs": [
    {
     "output_type": "stream",
     "name": "stdout",
     "text": [
      "{3, 11, 7, 15}\n{1.1, (1, 2), 11, '11'}\n"
     ]
    }
   ],
   "source": [
    "#three propeties of a set are that it is unchanegable, unordered, and the elements cannot be duplicated\n",
    "# create a set of numbers\n",
    "py_set_num = {3, 7, 11, 15}\n",
    "print(py_set_num)\n",
    "\n",
    "# create a set of mixed data types\n",
    "py_set_mix = {11, 1.1, \"11\", (1, 2)}\n",
    "print(py_set_mix)"
   ]
  },
  {
   "cell_type": "code",
   "execution_count": 25,
   "metadata": {},
   "outputs": [
    {
     "output_type": "stream",
     "name": "stdout",
     "text": [
      "{3, 11, 7, 15}\n{1.1, (1, 2), 11, '11'}\n[11, 1.1, '11', (1, 2), 12]\n{1.1, (1, 2), 11, 12, '11'}\n"
     ]
    }
   ],
   "source": [
    "# set can't store duplicate elements\n",
    "py_set_num = {3, 7, 11, 15, 3, 7}\n",
    "# it'll automatically filter the duplicates\n",
    "print(py_set_num)\n",
    "\n",
    "# create a set using the set() method\n",
    "# creating set with a fixed set of elements\n",
    "py_set_mix = set([11, 1.1, \"11\", (1, 2)])\n",
    "print(py_set_mix)\n",
    "\n",
    "# creating set with dynamic elements\n",
    "py_list = [11, 1.1, \"11\", (1, 2)]\n",
    "py_list.append(12)\n",
    "print(py_list)\n",
    "py_set_mix = set(py_list)\n",
    "print(py_set_mix)"
   ]
  },
  {
   "cell_type": "code",
   "execution_count": null,
   "metadata": {},
   "outputs": [],
   "source": [
    "# Let's try to create an empty Python set\n",
    "py_set_num = {}\n",
    "print(\"The value of py_set_num:\", py_set_num)\n",
    "print(\"The type of py_set_num:\", type(py_set_num))\n",
    "\n",
    "py_set_num = set()\n",
    "print(\"The value of py_set_num:\", py_set_num)\n",
    "print(\"The type of py_set_num:\", type(py_set_num))"
   ]
  },
  {
   "cell_type": "code",
   "execution_count": 28,
   "metadata": {},
   "outputs": [
    {
     "output_type": "stream",
     "name": "stdout",
     "text": [
      "py_set_num.discard(99): {33, 22, 55, 77}\n"
     ]
    }
   ],
   "source": [
    "# Let's try to use a Python set\n",
    "py_set_num = {22, 33, 55, 77, 99}\n",
    "\n",
    "# discard an element from the set\n",
    "py_set_num.discard(99)\n",
    "\n",
    "print(\"py_set_num.discard(99):\", py_set_num)"
   ]
  },
  {
   "cell_type": "code",
   "execution_count": null,
   "metadata": {},
   "outputs": [],
   "source": [
    "# Let's use the following Python set\n",
    "py_set_num = {22, 33, 55, 77, 99}\n",
    "print(\"py_set_num:\", py_set_num)\n",
    "\n",
    "# pop an element from the set\n",
    "py_set_num.pop()\n",
    "print(\"py_set_num.pop():\", py_set_num)\n",
    "\n",
    "# pop one more element from the set\n",
    "py_set_num.pop()\n",
    "print(\"py_set_num.pop():\", py_set_num)\n",
    "\n",
    "# clear all elements from the set\n",
    "py_set_num.clear()\n",
    "print(\"py_set_num.clear():\", py_set_num)"
   ]
  },
  {
   "cell_type": "code",
   "execution_count": null,
   "metadata": {},
   "outputs": [],
   "source": [
    "# Python intersection example using the & operator\n",
    "setA = {'a', 'e', 'i', 'o', 'u', 'g', 'h'}\n",
    "setB = {'a', 'e', 'z', 'b', 't', 'o', 'u'}\n",
    "\n",
    "print(\"Initial setA:\", setA, \"size:\", len(setA))\n",
    "print(\"Initial setB:\", setB, \"size:\", len(setB))\n",
    "\n",
    "print(\"(setA & setB):\", setA & setB, \"size:\", len(setA & setB))"
   ]
  },
  {
   "cell_type": "code",
   "execution_count": null,
   "metadata": {},
   "outputs": [],
   "source": [
    "# Python set example using the intersection() method\n",
    "setA = {'a', 'e', 'i', 'o', 'u', 'g', 'h'}\n",
    "setB = {'a', 'e', 'z', 'b', 't', 'o', 'u'}\n",
    "\n",
    "intersectAB = setA.intersection(setB)\n",
    "print(\"setA.intersection(setB):\", intersectAB, \"size:\", len(intersectAB))\n",
    "intersectBA = setB.intersection(setA)\n",
    "print(\"setB.intersection(setA):\", intersectBA, \"size:\", len(intersectBA))"
   ]
  },
  {
   "cell_type": "code",
   "execution_count": null,
   "metadata": {},
   "outputs": [],
   "source": [
    "# Python set's difference operation\n",
    "setA = {'a', 'e', 'i', 'o', 'u', 'g', 'h'}\n",
    "setB = {'a', 'e', 'z', 'b', 't', 'o', 'u'}\n",
    "\n",
    "diffAB = setA - setB\n",
    "print(\"diffAB:\", diffAB, \"size:\", len(diffAB))\n",
    "diffBA = setB - setA\n",
    "print(\"diffBA:\", diffBA, \"size:\", len(diffBA))"
   ]
  },
  {
   "cell_type": "code",
   "execution_count": null,
   "metadata": {},
   "outputs": [],
   "source": [
    "# Python set example using the caret ^ operator\n",
    "setA = {'a', 'e', 'i', 'o', 'u', 'g', 'h'}\n",
    "setB = {'a', 'e', 'z', 'b', 't', 'o', 'u'}\n",
    "\n",
    "symdiffAB = setA^setB\n",
    "print(\"symdiffAB:\", symdiffAB, \"size:\", len(symdiffAB))\n",
    "symdiffBA = setB^setA\n",
    "print(\"symdiffBA:\", symdiffBA, \"size:\", len(symdiffBA))"
   ]
  },
  {
   "cell_type": "code",
   "execution_count": null,
   "metadata": {},
   "outputs": [],
   "source": [
    "# Python set example to access elements from a set\n",
    "basket = set([\"apple\", \"mango\", \"banana\", \"grapes\", \"orange\"])\n",
    " \n",
    "for fruit in basket:\n",
    "    print(fruit)"
   ]
  },
  {
   "cell_type": "code",
   "execution_count": null,
   "metadata": {},
   "outputs": [],
   "source": [
    "# Python set example to test elements in a set\n",
    "basket = set([\"apple\", \"mango\", \"banana\", \"grapes\", \"orange\"])\n",
    "\n",
    "# confirm if 'apple' is in the basket\n",
    "print(\"Is 'apple' in the basket?\", 'apple' in basket)\n",
    "\n",
    "# confirm if 'grapes' is in the basket\n",
    "print(\"Is 'watermelon' in the basket?\", 'watermelon' in basket)"
   ]
  },
  {
   "cell_type": "code",
   "execution_count": null,
   "metadata": {},
   "outputs": [],
   "source": []
  }
 ]
}