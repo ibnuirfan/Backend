{
 "metadata": {
  "language_info": {
   "codemirror_mode": {
    "name": "ipython",
    "version": 3
   },
   "file_extension": ".py",
   "mimetype": "text/x-python",
   "name": "python",
   "nbconvert_exporter": "python",
   "pygments_lexer": "ipython3",
   "version": "3.9.1-final"
  },
  "orig_nbformat": 2,
  "kernelspec": {
   "name": "python3",
   "display_name": "Python 3.9.1 64-bit",
   "metadata": {
    "interpreter": {
     "hash": "7d63ce975782c92b08f3f772153dbd399f28f779c2a00aec1f20bc6f6f6070ea"
    }
   }
  }
 },
 "nbformat": 4,
 "nbformat_minor": 2,
 "cells": [
  {
   "cell_type": "code",
   "execution_count": null,
   "metadata": {},
   "outputs": [],
   "source": [
    "# Define a blank dictionary with no elements\n",
    "blank_dict = {}\n",
    "\n",
    "# Define a dictionary with numeric keys\n",
    "num_dict = {1: 'soccer', 2: 'baseball'}\n",
    "\n",
    "# Define a dictionary with keys having different types\n",
    "misc_dict = {'class': 'senior secondary', 1: [1, 2, 3,4,5]}\n",
    "\n",
    "# Create a dictionary with dict() method\n",
    "get_dict_from_func = dict({1:'veg', 2:'non-veg'})\n",
    "\n",
    "# Create a dictionary from a sequence of tuples\n",
    "make_dict_from_seq = dict([(1,'jake'), (2,'john')])"
   ]
  },
  {
   "cell_type": "code",
   "execution_count": null,
   "metadata": {},
   "outputs": [],
   "source": [
    "dict = {'Student Name': 'Berry', 'Roll No.': 12, 'Subject': 'English'}\n",
    "print(\"dict['Student Name']: \", dict['Student Name'])\n",
    "print(\"dict['Roll No.']: \", dict['Roll No.'])\n",
    "print(\"dict['Subject']: \", dict['Subject'])"
   ]
  },
  {
   "cell_type": "code",
   "execution_count": 1,
   "metadata": {},
   "outputs": [
    {
     "output_type": "error",
     "ename": "KeyError",
     "evalue": "'Name'",
     "traceback": [
      "\u001b[1;31m---------------------------------------------------------------------------\u001b[0m",
      "\u001b[1;31mKeyError\u001b[0m                                  Traceback (most recent call last)",
      "\u001b[1;32m<ipython-input-1-fab5a9559eca>\u001b[0m in \u001b[0;36m<module>\u001b[1;34m\u001b[0m\n\u001b[0;32m      1\u001b[0m \u001b[0mdict\u001b[0m \u001b[1;33m=\u001b[0m \u001b[1;33m{\u001b[0m\u001b[1;34m'Student Name'\u001b[0m\u001b[1;33m:\u001b[0m \u001b[1;34m'Berry'\u001b[0m\u001b[1;33m,\u001b[0m \u001b[1;34m'Roll No.'\u001b[0m\u001b[1;33m:\u001b[0m \u001b[1;36m12\u001b[0m\u001b[1;33m,\u001b[0m \u001b[1;34m'Subject'\u001b[0m\u001b[1;33m:\u001b[0m \u001b[1;34m'English'\u001b[0m\u001b[1;33m}\u001b[0m\u001b[1;33m\u001b[0m\u001b[1;33m\u001b[0m\u001b[0m\n\u001b[1;32m----> 2\u001b[1;33m \u001b[0mprint\u001b[0m\u001b[1;33m(\u001b[0m\u001b[1;34m\"dict['Name']: \"\u001b[0m\u001b[1;33m,\u001b[0m \u001b[0mdict\u001b[0m\u001b[1;33m[\u001b[0m\u001b[1;34m'Name'\u001b[0m\u001b[1;33m]\u001b[0m\u001b[1;33m)\u001b[0m\u001b[1;33m\u001b[0m\u001b[1;33m\u001b[0m\u001b[0m\n\u001b[0m",
      "\u001b[1;31mKeyError\u001b[0m: 'Name'"
     ]
    }
   ],
   "source": [
    "dict = {'Student Name': 'Berry', 'Roll No.': 12, 'Subject': 'English'}\n",
    "print(\"dict['Name']: \", dict['Name'])"
   ]
  },
  {
   "cell_type": "code",
   "execution_count": null,
   "metadata": {},
   "outputs": [],
   "source": [
    ">>> dict_append = {\"1\" : \"Python\", \"2\" : \"Java\"}\n",
    ">>> print(dict_append)\n",
    "{'1': 'Python', '2': 'Java'}\n",
    ">>> dict_append[\"3\"] = \"CSharp\"\n",
    ">>> print(dict_append)\n",
    "{'1': 'Python', '3': 'CSharp', '2': 'Java'}\n",
    ">>>"
   ]
  },
  {
   "cell_type": "code",
   "execution_count": null,
   "metadata": {},
   "outputs": [],
   "source": [
    ">>> dict_append.update({\"4\" : \"JavaScript\"})\n",
    ">>> print(dict_append)\n",
    "{'1': 'Python', '3': 'CSharp', '2': 'Java', '4': 'JavaScript'}\n",
    ">>>"
   ]
  },
  {
   "cell_type": "code",
   "execution_count": null,
   "metadata": {},
   "outputs": [],
   "source": [
    "dict = {'Student Name': 'Berry', 'Roll No.': 12, 'Subject': 'English'}\n",
    "print(\"The student who left:\", dict.get('Student Name'))\n",
    "dict['Student Name'] = 'Larry'\n",
    "print(\"The student who replaced: [Update]\", dict.get('Student Name'))\n",
    "dict['Student Name'] = 'Jarry'\n",
    "print(\"The student who joined: [Addition]\", dict.get('Student Name'))"
   ]
  },
  {
   "cell_type": "code",
   "execution_count": null,
   "metadata": {},
   "outputs": [],
   "source": [
    ">>> sample_dict = {\"python\" : 1, \"csharp\" : 2, \"javascript\" : 3}\n",
    ">>> sample_dict.update( javascript = 2 )\n",
    ">>> print(sample_dict)\n",
    "{'python': 1, 'javascript': 2, 'csharp': 2}\n",
    ">>> sample_dict.update( csharp = 3 )\n",
    ">>> print(sample_dict)\n",
    "{'python': 1, 'javascript': 2, 'csharp': 3}"
   ]
  },
  {
   "cell_type": "code",
   "execution_count": null,
   "metadata": {},
   "outputs": [],
   "source": [
    "# Create a Python dictionary\n",
    "sixMonths = {1:31, 2:28, 3:31, 4:30, 5:31, 6:30}\n",
    "\n",
    "# Delete a specific element\n",
    "print(sixMonths.pop(6)) \n",
    "print(sixMonths)\n",
    "\n",
    "# Delete an random element\n",
    "print(sixMonths.popitem())\n",
    "print(sixMonths)\n",
    "\n",
    "# Remove a specific element\n",
    "del sixMonths[5]\n",
    "print(sixMonths)\n",
    "\n",
    "# Delete all elements from the dictionary\n",
    "sixMonths.clear()\n",
    "print(sixMonths)\n",
    "\n",
    "# Finally, eliminate the dictionary object\n",
    "del sixMonths\n",
    "print(sixMonths)"
   ]
  },
  {
   "cell_type": "code",
   "execution_count": null,
   "metadata": {},
   "outputs": [],
   "source": [
    "dict = {'Student Name': 'Berry', 'Roll No.': 12, 'Subject': 'English'}\n",
    "print(\"Keys are:\")\n"
   ]
  },
  {
   "cell_type": "code",
   "execution_count": null,
   "metadata": {},
   "outputs": [],
   "source": [
    "dict = {'Student Name': 'Berry', 'Roll No.': 12, 'Subject': 'English'}\n",
    "print(\"{Keys}:{Values}\")\n",
    "for key, value in dict.items():\n",
    " print({key},\":\",{value})"
   ]
  },
  {
   "source": [
    ">>> {str(iter):iter for iter in [11,22,33,44,55]}\n",
    "{'44': 44, '33': 33, '55': 55, '11': 11, '22': 22}"
   ],
   "cell_type": "code",
   "metadata": {},
   "execution_count": null,
   "outputs": []
  },
  {
   "cell_type": "code",
   "execution_count": null,
   "metadata": {},
   "outputs": [],
   "source": [
    "weekdays = {'fri': 5, 'tue': 2, 'wed': 3, 'sat': 6, 'thu': 4, 'mon': 1, 'sun': 0}\n",
    "# Output: True\n",
    "print('fri' in weekdays)\n",
    "# Output: False\n",
    "print('thu' not in weekdays)\n",
    "# Output: True\n",
    "print('mon' in weekdays)"
   ]
  }
 ]
}