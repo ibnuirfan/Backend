{
 "metadata": {
  "language_info": {
   "codemirror_mode": {
    "name": "ipython",
    "version": 3
   },
   "file_extension": ".py",
   "mimetype": "text/x-python",
   "name": "python",
   "nbconvert_exporter": "python",
   "pygments_lexer": "ipython3",
   "version": 3
  },
  "orig_nbformat": 2
 },
 "nbformat": 4,
 "nbformat_minor": 2,
 "cells": [
  {
   "cell_type": "code",
   "execution_count": null,
   "metadata": {},
   "outputs": [],
   "source": [
    "# Create a Python list using subscript operator\n",
    "# Syntax\n",
    "L1 = [] # An empty list\n",
    "L2 = [a1, a2,...] # With elements"
   ]
  },
  {
   "cell_type": "code",
   "execution_count": null,
   "metadata": {},
   "outputs": [],
   "source": [
    "# blank list\n",
    "L1 = []\n",
    "\n",
    "# list of integers\n",
    "L2 = [10, 20, 30]\n",
    "\n",
    "# List of heterogenous data types\n",
    "L3 = [1, \"Hello\", 3.4]"
   ]
  },
  {
   "cell_type": "code",
   "execution_count": null,
   "metadata": {},
   "outputs": [],
   "source": [
    "# Create Python list using list()\n",
    "# Syntax\n",
    "theList = list([n1, n2, ...] or [n1, n2, [x1, x2, ...]])"
   ]
  },
  {
   "cell_type": "code",
   "execution_count": null,
   "metadata": {},
   "outputs": [],
   "source": [
    "theList = list() #empty list\n",
    "len(theList)\n",
    "0"
   ]
  },
  {
   "cell_type": "code",
   "execution_count": null,
   "metadata": {},
   "outputs": [],
   "source": [
    ">>> theList = list([1,2])\n",
    ">>> theList\n",
    "[1, 2]"
   ]
  },
  {
   "cell_type": "code",
   "execution_count": null,
   "metadata": {},
   "outputs": [],
   "source": [
    ">>> theList = list([1, 2, [1.1, 2.2]])\n",
    ">>> theList\n",
    "[1, 2, [1.1, 2.2]]\n",
    ">>> len(theList)\n",
    "3"
   ]
  },
  {
   "cell_type": "code",
   "execution_count": null,
   "metadata": {},
   "outputs": [],
   "source": [
    "#Syntax - How to use List Comprehension\n",
    "\n",
    "theList = [expression(iter) for iter in oldList if filter(iter)]"
   ]
  },
  {
   "cell_type": "code",
   "execution_count": null,
   "metadata": {},
   "outputs": [],
   "source": [
    ">>> theList = [iter for iter in range(5)]\n",
    ">>> print(theList)"
   ]
  },
  {
   "cell_type": "code",
   "execution_count": null,
   "metadata": {},
   "outputs": [],
   "source": [
    ">>> listofCountries = [\"India\",\"America\",\"England\",\"Germany\",\"Brazil\",\"Vietnam\"]\n",
    ">>> firstLetters = [ country[0] for country in listofCountries ]\n",
    ">>> print(firstLetters)"
   ]
  },
  {
   "cell_type": "code",
   "execution_count": null,
   "metadata": {},
   "outputs": [],
   "source": [
    ">>> print ([x+y for x in 'get' for y in 'set'])"
   ]
  },
  {
   "cell_type": "code",
   "execution_count": null,
   "metadata": {},
   "outputs": [],
   "source": [
    ">>> months = ['jan', 'feb', 'mar', 'apr', 'may', 'jun', 'jul', 'aug', 'sep', 'oct', 'nov', 'dec']\n",
    ">>> oddMonths = [iter for index, iter in enumerate(months) if (index%2 == 0)]\n",
    ">>> oddMonths"
   ]
  },
  {
   "cell_type": "code",
   "execution_count": null,
   "metadata": {},
   "outputs": [],
   "source": [
    ">>> init_list = [0]*3\n",
    ">>> print(init_list)\n",
    "[0, 0, 0]"
   ]
  },
  {
   "cell_type": "code",
   "execution_count": null,
   "metadata": {},
   "outputs": [],
   "source": [
    "two_dim_list = [ [0]*3 ] *3"
   ]
  },
  {
   "cell_type": "code",
   "execution_count": null,
   "metadata": {},
   "outputs": [],
   "source": []
  },
  {
   "cell_type": "code",
   "execution_count": null,
   "metadata": {},
   "outputs": [],
   "source": [
    ">>> two_dim_list = [ [0]*3 ] *3\n",
    ">>> print(two_dim_list)\n",
    "[[0, 0, 0], [0, 0, 0], [0, 0, 0]]\n",
    ">>> two_dim_list[0][2] = 1\n",
    ">>> print(two_dim_list)\n",
    "[[0, 0, 1], [0, 0, 1], [0, 0, 1]]"
   ]
  },
  {
   "cell_type": "code",
   "execution_count": null,
   "metadata": {},
   "outputs": [],
   "source": [
    ">>> two_dim_list = [[0]*3 for i in range(3)]\n",
    "\n",
    ">>> print(two_dim_list)\n",
    "\n",
    "[[0, 0, 0], [0, 0, 0], [0, 0, 0]]\n",
    "\n",
    ">>> two_dim_list[0][2] = 1\n",
    "\n",
    ">>> print(two_dim_list)\n",
    "\n",
    "[[0, 0, 1], [0, 0, 0], [0, 0, 0]]"
   ]
  },
  {
   "cell_type": "code",
   "execution_count": null,
   "metadata": {},
   "outputs": [],
   "source": [
    ">>> L1 = ['a', 'b']\n",
    ">>> L2 = [1, 2]\n",
    ">>> L3 = ['Learn', 'Python']\n",
    ">>> L1 + L2 + L3\n",
    "['a', 'b', 1, 2, 'Learn', 'Python']"
   ]
  },
  {
   "cell_type": "code",
   "execution_count": null,
   "metadata": {},
   "outputs": [],
   "source": [
    ">>> L1 = ['a', 'b']\n",
    ">>> L2 = ['c', 'd']\n",
    ">>> L1.extend(L2)\n",
    ">>> print(L1)"
   ]
  },
  {
   "cell_type": "code",
   "execution_count": null,
   "metadata": {},
   "outputs": [],
   "source": [
    ">>> L1 = ['x', 'y']\n",
    ">>> L1.append(['a', 'b'])\n",
    ">>> L1\n",
    "['x', 'y', ['a', 'b']]"
   ]
  },
  {
   "cell_type": "code",
   "execution_count": null,
   "metadata": {},
   "outputs": [],
   "source": [
    "vowels = ['a','e','i','o','u']\n",
    "consonants = ['b', 'c', 'd', 'f', 'g', 'h', 'j', 'k', 'l', 'm', 'n', 'p', 'q', 'r', 's', 't', 'v', 'w', 'x', 'y', 'z']\n",
    "\n",
    "#Accessing list elements using the index operator\n",
    "print(vowels[0])\n",
    "print(vowels[2])\n",
    "print(vowels[4])"
   ]
  },
  {
   "cell_type": "code",
   "execution_count": null,
   "metadata": {},
   "outputs": [],
   "source": [
    "vowels = ['a','e','i','o','u']\n",
    "\n",
    "print(vowels[-1])\n",
    "\n",
    "print(vowels[-3])"
   ]
  },
  {
   "cell_type": "code",
   "execution_count": null,
   "metadata": {},
   "outputs": [],
   "source": [
    ">>> theList[2:5]\n",
    "[3, 4, 5]"
   ]
  },
  {
   "cell_type": "code",
   "execution_count": null,
   "metadata": {},
   "outputs": [],
   "source": [
    ">>> theList[2:-1]\n",
    "[3, 4, 5, 6, 7]"
   ]
  },
  {
   "cell_type": "code",
   "execution_count": null,
   "metadata": {},
   "outputs": [],
   "source": [
    ">>> theList[2:]\n",
    "[3, 4, 5, 6, 7, 8]"
   ]
  },
  {
   "cell_type": "code",
   "execution_count": null,
   "metadata": {},
   "outputs": [],
   "source": [
    "for element in theList:\n",
    " print(element)"
   ]
  },
  {
   "cell_type": "code",
   "execution_count": null,
   "metadata": {},
   "outputs": [],
   "source": [
    "for index in range(len(theList)):\n",
    " print(index)"
   ]
  },
  {
   "cell_type": "code",
   "execution_count": null,
   "metadata": {},
   "outputs": [],
   "source": [
    "theList = ['Python', 'C', 'C++', 'Java', 'CSharp']\n",
    "\n",
    "theList[4] = 'Angular'\n",
    "print(theList)\n",
    "\n",
    "theList[1:4] = ['Ruby', 'TypeScript', 'JavaScript'] \n",
    "print(theList)"
   ]
  },
  {
   "cell_type": "code",
   "execution_count": null,
   "metadata": {},
   "outputs": [],
   "source": [
    "theList = [55, 66]\n",
    "\n",
    "theList.insert(0,33)\n",
    "\n",
    "print(theList)"
   ]
  },
  {
   "cell_type": "code",
   "execution_count": null,
   "metadata": {},
   "outputs": [],
   "source": [
    "vowels = ['a','e','i','o','u']\n",
    "\n",
    "# remove one item\n",
    "del vowels[2]\n",
    "\n",
    "# Result: ['a', 'e', 'o', 'u'] \n",
    "print(vowels)\n",
    "\n",
    "# remove multiple items\n",
    "del vowels[1:3]\n",
    "\n",
    "# Result: ['a', 'u']\n",
    "print(vowels)\n",
    "\n",
    "# remove the entire list\n",
    "del vowels\n",
    "\n",
    "# NameError: List not defined\n",
    "print(vowels)"
   ]
  },
  {
   "cell_type": "code",
   "execution_count": null,
   "metadata": {},
   "outputs": [],
   "source": []
  }
 ]
}