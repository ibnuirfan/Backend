{
 "cells": [
  {
   "cell_type": "markdown",
   "metadata": {},
   "source": [
    "# Exercises"
   ]
  },
  {
   "cell_type": "markdown",
   "metadata": {},
   "source": [
    "## Question 1"
   ]
  },
  {
   "cell_type": "markdown",
   "metadata": {},
   "source": [
    "**Write a program that takes input of number from user and checks whether number is positive or negative.**"
   ]
  },
  {
   "cell_type": "code",
   "execution_count": 1,
   "metadata": {},
   "outputs": [
    {
     "output_type": "stream",
     "name": "stdout",
     "text": [
      "This is a positive number\n"
     ]
    }
   ],
   "source": [
    "number = float(input(\"Give me a number: \"))\n",
    "if number > 0:\n",
    "    print(\"This is a positive number\")\n",
    "elif number == 0:\n",
    "    print(\"This is zero\")\n",
    "else:\n",
    "    print(\"Negative number\")"
   ]
  },
  {
   "cell_type": "markdown",
   "metadata": {},
   "source": [
    "## Question 2"
   ]
  },
  {
   "cell_type": "markdown",
   "metadata": {},
   "source": [
    "**Write a program that inputs a number from user and checks whether number is even or odd.**"
   ]
  },
  {
   "cell_type": "code",
   "execution_count": 5,
   "metadata": {},
   "outputs": [
    {
     "output_type": "stream",
     "name": "stdout",
     "text": [
      "2 is Even number\n"
     ]
    }
   ],
   "source": [
    "number = int(input(\"Please input the number: \"))\n",
    "if(number % 2) == 0:\n",
    "    print(\"{0} is Even number\".format(number))\n",
    "else:\n",
    "    print(\"{0} is Odd number\".format(number))"
   ]
  },
  {
   "cell_type": "markdown",
   "metadata": {},
   "source": [
    "## Question 3"
   ]
  },
  {
   "cell_type": "markdown",
   "metadata": {},
   "source": [
    "**Write a program that finds greatest among three numbers. <br> And output print with \"The largest number is (output)\"**"
   ]
  },
  {
   "cell_type": "code",
   "execution_count": 10,
   "metadata": {},
   "outputs": [
    {
     "output_type": "stream",
     "name": "stdout",
     "text": [
      "Among these number 10.1 10.2 10.3\nLargest number is  10.3\n"
     ]
    }
   ],
   "source": [
    "number1 = float(input(\"Enter your first number: \"))\n",
    "number2 = float(input(\"Enter your second number: \"))\n",
    "number3 = float(input(\"Enter your third number: \"))\n",
    "\n",
    "if (number1 > number2) and (number1 > number3):\n",
    "    largest = number1\n",
    "elif (number2 > number1) and (number2 > number3):\n",
    "    largest = number2\n",
    "else:\n",
    "    largest = number3\n",
    "print(\"Among these number\", number1, number2, number3)\n",
    "print(\"Largest number is \", largest)"
   ]
  },
  {
   "cell_type": "markdown",
   "metadata": {},
   "source": [
    "## Question 4"
   ]
  },
  {
   "cell_type": "markdown",
   "metadata": {},
   "source": [
    "**You’re on a long car trip and arrive at a gas station. The next gas station is 200km away.\n",
    "Write a program to figure out if you need to buy gas here, or if you can wait for the\n",
    "next station. <br><br>\n",
    "The condition to buy gas here is if car is able to run at least 200km more <br><br>\n",
    "Ask user for input: How many litres of gas left in tank? How many km/litre is your car? <br>\n",
    "Hint: Calculate the distance your car can still run with remaining gas**\n"
   ]
  },
  {
   "cell_type": "code",
   "execution_count": 13,
   "metadata": {},
   "outputs": [
    {
     "output_type": "stream",
     "name": "stdout",
     "text": [
      "You're good to go\n"
     ]
    }
   ],
   "source": [
    "tank_left = float(input(\"How litres left in your tank? \"))\n",
    "litres_km = float(input(\"How many km/litre is your car? \"))\n",
    "\n",
    "refuel = tank_left * litres_km\n",
    "\n",
    "if (refuel > 200):\n",
    "    print(\"You're good to go\")\n",
    "else:\n",
    "    print(\"Please top up your petrol\")\n",
    "\n",
    "\n"
   ]
  },
  {
   "cell_type": "markdown",
   "metadata": {},
   "source": [
    "## Question 5"
   ]
  },
  {
   "cell_type": "markdown",
   "metadata": {},
   "source": [
    "**A soccer team is looking for girls from ages 10 to 12 to play on their team. Write a program to ask the user’s age and whether the user is male or female (using “m” or “f”). Display a message indicating whether the person is eligible to play on the team.\n",
    "Bonus: Make the program so that it doesn’t ask for the age unless the user is a girl.**"
   ]
  },
  {
   "cell_type": "code",
   "execution_count": 47,
   "metadata": {},
   "outputs": [
    {
     "output_type": "stream",
     "name": "stdout",
     "text": [
      "female\n",
      "Sorry you don't fit the age category\n"
     ]
    }
   ],
   "source": [
    "gender = str(input(\"Are you a male or female?\"))\n",
    "print(gender)\n",
    "if(gender.lower() == \"male\"):\n",
    "    print(\"Sorry we're not looking for male as of now\")\n",
    "elif (gender.lower() == \"female\"):\n",
    "    age =  int(input(\"What is your age? \"))\n",
    "    if (age > 9) and (age < 13):\n",
    "        print(\"You come for the trial!\")\n",
    "    else:\n",
    "        print(\"Sorry you don't fit the age category\")\n",
    "else:\n",
    "    print(\"please input your gender\")\n",
    "    "
   ]
  },
  {
   "cell_type": "markdown",
   "metadata": {},
   "source": [
    "## Question 6"
   ]
  },
  {
   "cell_type": "markdown",
   "metadata": {},
   "source": [
    "**Write a program that prompts the user to enter a weight in kilograms and height in metres and then displays the BMI as well as below interpreations.** \n",
    "\n",
    "**If BMI is Below $18.5$, it is interpreted as Underweight. <br>\n",
    "If BMI is from $18.5–24.9$, it is interpreted as Normal. <br>\n",
    "If BMI is from $25.0–29.9$, it is interpreted as Overweight. <br>\n",
    "else If BMI is Above $30.0$, it is interpreted as Obese.**\n"
   ]
  },
  {
   "cell_type": "code",
   "execution_count": 60,
   "metadata": {},
   "outputs": [
    {
     "output_type": "stream",
     "name": "stdout",
     "text": [
      "Lets calculate your BMI\n",
      "Your BMI is:  23.78 \n",
      "You are normal\n"
     ]
    }
   ],
   "source": [
    "print(\"Lets calculate your BMI\")\n",
    "weight = float(input(\"What is your weight(in kg)?\"))\n",
    "height = float(input(\"What is your height(in meters)?\"))\n",
    "\n",
    "\n",
    "bmi = weight / pow(height, 2)\n",
    "if (bmi < 18.5):\n",
    "    print(\"Your BMI is: \", round(bmi,2), \"\\nYou are underweight\")\n",
    "elif (bmi > 18.5) and (bmi <24.9):\n",
    "    print(\"Your BMI is: \", round(bmi,2), \"\\nYou are normal\")\n",
    "elif(bmi > 25) and (bmi < 29.9):\n",
    "    print(\"Your BMI is: \", round(bmi,2), \"\\nYou are overweight\")\n",
    "else:\n",
    "    print(\"Your BMI is: \", round(bmi,2), \"\\nYou are obese\")"
   ]
  },
  {
   "cell_type": "markdown",
   "metadata": {},
   "source": [
    "## Question 7"
   ]
  },
  {
   "cell_type": "markdown",
   "metadata": {},
   "source": [
    "**Write a program in which user enters one number and whether it is divisible by 7 (ie. remainder 0 when divide by 7) and is not a multiple of 5.**"
   ]
  },
  {
   "cell_type": "code",
   "execution_count": 82,
   "metadata": {},
   "outputs": [
    {
     "output_type": "stream",
     "name": "stdout",
     "text": [
      "It is not divisible but not multiple of 5\n"
     ]
    }
   ],
   "source": [
    "number = int(input(\"Check if the number is divisible by 7 and not multiple of 5\"))\n",
    "\n",
    "if (number%7 == 0) and (number%5 != 0):\n",
    "    print(\"It is divisible by 7 and not multiple of 5\")\n",
    "elif(number%7 == 0) and (number%5 == 0):\n",
    "    print(\"It is divisible but multiple of 5\")\n",
    "elif(number%7 != 0) and (number%5 != 0):\n",
    "    print(\"It is not divisible but not multiple of 5\")\n",
    "else:\n",
    "    print(\"It is not divisible and multiple of 5\")\n"
   ]
  }
 ],
 "metadata": {
  "kernelspec": {
   "name": "python3",
   "display_name": "Python 3.9.0 64-bit",
   "metadata": {
    "interpreter": {
     "hash": "7812ea015bdcee6f23a998adcdd2ef97c151c0c241b7b7070987d9313e41299d"
    }
   }
  },
  "language_info": {
   "codemirror_mode": {
    "name": "ipython",
    "version": 3
   },
   "file_extension": ".py",
   "mimetype": "text/x-python",
   "name": "python",
   "nbconvert_exporter": "python",
   "pygments_lexer": "ipython3",
   "version": "3.9.0-final"
  }
 },
 "nbformat": 4,
 "nbformat_minor": 2
}